{
 "cells": [
  {
   "cell_type": "markdown",
   "metadata": {},
   "source": [
    "# Day 08. Exercise 03\n",
    "# Overfitting"
   ]
  },
  {
   "cell_type": "markdown",
   "metadata": {},
   "source": [
    "## 0. Imports"
   ]
  },
  {
   "cell_type": "code",
   "execution_count": 1,
   "metadata": {},
   "outputs": [],
   "source": [
    "import joblib\n",
    "import pandas as pd\n",
    "import numpy as np\n",
    "import matplotlib.pyplot as plt\n",
    "from sklearn.svm import SVC\n",
    "from sklearn.metrics import accuracy_score\n",
    "from sklearn.tree import DecisionTreeClassifier\n",
    "from sklearn.linear_model import LogisticRegression\n",
    "from sklearn.ensemble import RandomForestClassifier\n",
    "from sklearn.model_selection import train_test_split\n",
    "from sklearn.model_selection import cross_val_score, GridSearchCV"
   ]
  },
  {
   "cell_type": "markdown",
   "metadata": {},
   "source": [
    "## 1. Preprocessing"
   ]
  },
  {
   "cell_type": "markdown",
   "metadata": {},
   "source": [
    "1. Read the file `dayofweek.csv` to a dataframe.\n",
    "2. Using `train_test_split` with parameters `test_size=0.2`, `random_state=21` get `X_train`, `y_train`, `X_test`, `y_test`.\n",
    "3. Using, for example, `value_counts()` to check if the distribution of classes is similar in train and test.\n",
    "4. Use the additional parameter `stratify=` and check the distribution again, now it should be more or less similar in both datasets."
   ]
  },
  {
   "cell_type": "code",
   "execution_count": 2,
   "metadata": {},
   "outputs": [
    {
     "data": {
      "text/plain": "      Unnamed: 0  numTrials      hour  dayofweek  uid_user_0  uid_user_1  \\\n0              0  -0.788667 -2.562352          4           0           0   \n1              1  -0.756764 -2.562352          4           0           0   \n2              2  -0.724861 -2.562352          4           0           0   \n3              3  -0.692958 -2.562352          4           0           0   \n4              4  -0.661055 -2.562352          4           0           0   \n...          ...        ...       ...        ...         ...         ...   \n1681        1681  -0.533442  0.945382          3           0           0   \n1682        1682  -0.629151  0.945382          3           0           1   \n1683        1683  -0.597248  0.945382          3           0           1   \n1684        1684  -0.565345  0.945382          3           0           1   \n1685        1685  -0.533442  0.945382          3           0           1   \n\n      uid_user_10  uid_user_11  uid_user_12  uid_user_13  ...  labname_lab02  \\\n0               0            0            0            0  ...              0   \n1               0            0            0            0  ...              0   \n2               0            0            0            0  ...              0   \n3               0            0            0            0  ...              0   \n4               0            0            0            0  ...              0   \n...           ...          ...          ...          ...  ...            ...   \n1681            0            0            0            0  ...              0   \n1682            0            0            0            0  ...              0   \n1683            0            0            0            0  ...              0   \n1684            0            0            0            0  ...              0   \n1685            0            0            0            0  ...              0   \n\n      labname_lab03  labname_lab03s  labname_lab05s  labname_laba04  \\\n0                 0               0               0               0   \n1                 0               0               0               0   \n2                 0               0               0               0   \n3                 0               0               0               0   \n4                 0               0               0               0   \n...             ...             ...             ...             ...   \n1681              0               0               0               0   \n1682              0               0               0               0   \n1683              0               0               0               0   \n1684              0               0               0               0   \n1685              0               0               0               0   \n\n      labname_laba04s  labname_laba05  labname_laba06  labname_laba06s  \\\n0                   0               0               0                0   \n1                   0               0               0                0   \n2                   0               0               0                0   \n3                   0               0               0                0   \n4                   0               0               0                0   \n...               ...             ...             ...              ...   \n1681                0               0               0                1   \n1682                0               0               0                1   \n1683                0               0               0                1   \n1684                0               0               0                1   \n1685                0               0               0                1   \n\n      labname_project1  \n0                    1  \n1                    1  \n2                    1  \n3                    1  \n4                    1  \n...                ...  \n1681                 0  \n1682                 0  \n1683                 0  \n1684                 0  \n1685                 0  \n\n[1686 rows x 45 columns]",
      "text/html": "<div>\n<style scoped>\n    .dataframe tbody tr th:only-of-type {\n        vertical-align: middle;\n    }\n\n    .dataframe tbody tr th {\n        vertical-align: top;\n    }\n\n    .dataframe thead th {\n        text-align: right;\n    }\n</style>\n<table border=\"1\" class=\"dataframe\">\n  <thead>\n    <tr style=\"text-align: right;\">\n      <th></th>\n      <th>Unnamed: 0</th>\n      <th>numTrials</th>\n      <th>hour</th>\n      <th>dayofweek</th>\n      <th>uid_user_0</th>\n      <th>uid_user_1</th>\n      <th>uid_user_10</th>\n      <th>uid_user_11</th>\n      <th>uid_user_12</th>\n      <th>uid_user_13</th>\n      <th>...</th>\n      <th>labname_lab02</th>\n      <th>labname_lab03</th>\n      <th>labname_lab03s</th>\n      <th>labname_lab05s</th>\n      <th>labname_laba04</th>\n      <th>labname_laba04s</th>\n      <th>labname_laba05</th>\n      <th>labname_laba06</th>\n      <th>labname_laba06s</th>\n      <th>labname_project1</th>\n    </tr>\n  </thead>\n  <tbody>\n    <tr>\n      <th>0</th>\n      <td>0</td>\n      <td>-0.788667</td>\n      <td>-2.562352</td>\n      <td>4</td>\n      <td>0</td>\n      <td>0</td>\n      <td>0</td>\n      <td>0</td>\n      <td>0</td>\n      <td>0</td>\n      <td>...</td>\n      <td>0</td>\n      <td>0</td>\n      <td>0</td>\n      <td>0</td>\n      <td>0</td>\n      <td>0</td>\n      <td>0</td>\n      <td>0</td>\n      <td>0</td>\n      <td>1</td>\n    </tr>\n    <tr>\n      <th>1</th>\n      <td>1</td>\n      <td>-0.756764</td>\n      <td>-2.562352</td>\n      <td>4</td>\n      <td>0</td>\n      <td>0</td>\n      <td>0</td>\n      <td>0</td>\n      <td>0</td>\n      <td>0</td>\n      <td>...</td>\n      <td>0</td>\n      <td>0</td>\n      <td>0</td>\n      <td>0</td>\n      <td>0</td>\n      <td>0</td>\n      <td>0</td>\n      <td>0</td>\n      <td>0</td>\n      <td>1</td>\n    </tr>\n    <tr>\n      <th>2</th>\n      <td>2</td>\n      <td>-0.724861</td>\n      <td>-2.562352</td>\n      <td>4</td>\n      <td>0</td>\n      <td>0</td>\n      <td>0</td>\n      <td>0</td>\n      <td>0</td>\n      <td>0</td>\n      <td>...</td>\n      <td>0</td>\n      <td>0</td>\n      <td>0</td>\n      <td>0</td>\n      <td>0</td>\n      <td>0</td>\n      <td>0</td>\n      <td>0</td>\n      <td>0</td>\n      <td>1</td>\n    </tr>\n    <tr>\n      <th>3</th>\n      <td>3</td>\n      <td>-0.692958</td>\n      <td>-2.562352</td>\n      <td>4</td>\n      <td>0</td>\n      <td>0</td>\n      <td>0</td>\n      <td>0</td>\n      <td>0</td>\n      <td>0</td>\n      <td>...</td>\n      <td>0</td>\n      <td>0</td>\n      <td>0</td>\n      <td>0</td>\n      <td>0</td>\n      <td>0</td>\n      <td>0</td>\n      <td>0</td>\n      <td>0</td>\n      <td>1</td>\n    </tr>\n    <tr>\n      <th>4</th>\n      <td>4</td>\n      <td>-0.661055</td>\n      <td>-2.562352</td>\n      <td>4</td>\n      <td>0</td>\n      <td>0</td>\n      <td>0</td>\n      <td>0</td>\n      <td>0</td>\n      <td>0</td>\n      <td>...</td>\n      <td>0</td>\n      <td>0</td>\n      <td>0</td>\n      <td>0</td>\n      <td>0</td>\n      <td>0</td>\n      <td>0</td>\n      <td>0</td>\n      <td>0</td>\n      <td>1</td>\n    </tr>\n    <tr>\n      <th>...</th>\n      <td>...</td>\n      <td>...</td>\n      <td>...</td>\n      <td>...</td>\n      <td>...</td>\n      <td>...</td>\n      <td>...</td>\n      <td>...</td>\n      <td>...</td>\n      <td>...</td>\n      <td>...</td>\n      <td>...</td>\n      <td>...</td>\n      <td>...</td>\n      <td>...</td>\n      <td>...</td>\n      <td>...</td>\n      <td>...</td>\n      <td>...</td>\n      <td>...</td>\n      <td>...</td>\n    </tr>\n    <tr>\n      <th>1681</th>\n      <td>1681</td>\n      <td>-0.533442</td>\n      <td>0.945382</td>\n      <td>3</td>\n      <td>0</td>\n      <td>0</td>\n      <td>0</td>\n      <td>0</td>\n      <td>0</td>\n      <td>0</td>\n      <td>...</td>\n      <td>0</td>\n      <td>0</td>\n      <td>0</td>\n      <td>0</td>\n      <td>0</td>\n      <td>0</td>\n      <td>0</td>\n      <td>0</td>\n      <td>1</td>\n      <td>0</td>\n    </tr>\n    <tr>\n      <th>1682</th>\n      <td>1682</td>\n      <td>-0.629151</td>\n      <td>0.945382</td>\n      <td>3</td>\n      <td>0</td>\n      <td>1</td>\n      <td>0</td>\n      <td>0</td>\n      <td>0</td>\n      <td>0</td>\n      <td>...</td>\n      <td>0</td>\n      <td>0</td>\n      <td>0</td>\n      <td>0</td>\n      <td>0</td>\n      <td>0</td>\n      <td>0</td>\n      <td>0</td>\n      <td>1</td>\n      <td>0</td>\n    </tr>\n    <tr>\n      <th>1683</th>\n      <td>1683</td>\n      <td>-0.597248</td>\n      <td>0.945382</td>\n      <td>3</td>\n      <td>0</td>\n      <td>1</td>\n      <td>0</td>\n      <td>0</td>\n      <td>0</td>\n      <td>0</td>\n      <td>...</td>\n      <td>0</td>\n      <td>0</td>\n      <td>0</td>\n      <td>0</td>\n      <td>0</td>\n      <td>0</td>\n      <td>0</td>\n      <td>0</td>\n      <td>1</td>\n      <td>0</td>\n    </tr>\n    <tr>\n      <th>1684</th>\n      <td>1684</td>\n      <td>-0.565345</td>\n      <td>0.945382</td>\n      <td>3</td>\n      <td>0</td>\n      <td>1</td>\n      <td>0</td>\n      <td>0</td>\n      <td>0</td>\n      <td>0</td>\n      <td>...</td>\n      <td>0</td>\n      <td>0</td>\n      <td>0</td>\n      <td>0</td>\n      <td>0</td>\n      <td>0</td>\n      <td>0</td>\n      <td>0</td>\n      <td>1</td>\n      <td>0</td>\n    </tr>\n    <tr>\n      <th>1685</th>\n      <td>1685</td>\n      <td>-0.533442</td>\n      <td>0.945382</td>\n      <td>3</td>\n      <td>0</td>\n      <td>1</td>\n      <td>0</td>\n      <td>0</td>\n      <td>0</td>\n      <td>0</td>\n      <td>...</td>\n      <td>0</td>\n      <td>0</td>\n      <td>0</td>\n      <td>0</td>\n      <td>0</td>\n      <td>0</td>\n      <td>0</td>\n      <td>0</td>\n      <td>1</td>\n      <td>0</td>\n    </tr>\n  </tbody>\n</table>\n<p>1686 rows × 45 columns</p>\n</div>"
     },
     "execution_count": 2,
     "metadata": {},
     "output_type": "execute_result"
    }
   ],
   "source": [
    "df = pd.read_csv('../data/dayofweek.csv')\n",
    "df"
   ]
  },
  {
   "cell_type": "code",
   "execution_count": 3,
   "metadata": {},
   "outputs": [],
   "source": [
    "x = df.drop('dayofweek', axis=1)\n",
    "y = df['dayofweek']"
   ]
  },
  {
   "cell_type": "code",
   "execution_count": 4,
   "metadata": {},
   "outputs": [],
   "source": [
    "X_train, X_test, y_train, y_test = train_test_split(x, y, test_size=0.2,\n",
    "                                                    random_state=21)"
   ]
  },
  {
   "cell_type": "code",
   "execution_count": 5,
   "metadata": {},
   "outputs": [
    {
     "data": {
      "text/plain": "Unnamed: 0  numTrials  hour       uid_user_0  uid_user_1  uid_user_10  uid_user_11  uid_user_12  uid_user_13  uid_user_14  uid_user_15  uid_user_16  uid_user_17  uid_user_18  uid_user_19  uid_user_2  uid_user_20  uid_user_21  uid_user_22  uid_user_23  uid_user_24  uid_user_25  uid_user_26  uid_user_27  uid_user_28  uid_user_29  uid_user_3  uid_user_30  uid_user_31  uid_user_4  uid_user_6  uid_user_7  uid_user_8  labname_code_rvw  labname_lab02  labname_lab03  labname_lab03s  labname_lab05s  labname_laba04  labname_laba04s  labname_laba05  labname_laba06  labname_laba06s  labname_project1\n0           -0.788667  -2.562352  0           0           0            0            0            0            0            0            0            0            0            0            0           0            0            0            0            0            0            0            0            0            0            0           0            0            1           0           0           0           0                 0              0              0               0               0               0                0               0               0                1                   1\n1125         2.274039   0.477684  0           0           0            0            0            0            0            0            0            0            0            0            0           0            0            0            0            0            0            0            0            0            0            0           0            0            1           0           0           0           0                 0              0              0               0               0               0                0               0               0                1                   1\n1134         1.923104   0.711533  0           0           0            0            0            0            1            0            0            0            0            0            0           0            0            0            0            0            0            0            0            0            0            0           0            0            0           0           0           0           0                 0              0              0               0               0               0                0               0               0                1                   1\n1133         2.305943   0.711533  0           0           0            0            0            0            0            0            0            0            0            0            0           0            0            0            0            0            0            0            0            0            0            0           0            0            1           0           0           0           0                 0              0              0               0               0               0                0               0               0                1                   1\n1132         0.838396   0.711533  0           0           0            0            0            0            0            0            0            0            0            0            0           0            0            0            0            0            1            0            0            0            0            0           0            0            0           0           0           0           0                 0              0              0               0               0               0                0               0               0                1                   1\ndtype: int64"
     },
     "execution_count": 5,
     "metadata": {},
     "output_type": "execute_result"
    }
   ],
   "source": [
    "X_train.value_counts().head()"
   ]
  },
  {
   "cell_type": "code",
   "execution_count": 6,
   "metadata": {},
   "outputs": [
    {
     "data": {
      "text/plain": "Unnamed: 0  numTrials  hour       uid_user_0  uid_user_1  uid_user_10  uid_user_11  uid_user_12  uid_user_13  uid_user_14  uid_user_15  uid_user_16  uid_user_17  uid_user_18  uid_user_19  uid_user_2  uid_user_20  uid_user_21  uid_user_22  uid_user_23  uid_user_24  uid_user_25  uid_user_26  uid_user_27  uid_user_28  uid_user_29  uid_user_3  uid_user_30  uid_user_31  uid_user_4  uid_user_6  uid_user_7  uid_user_8  labname_code_rvw  labname_lab02  labname_lab03  labname_lab03s  labname_lab05s  labname_laba04  labname_laba04s  labname_laba05  labname_laba06  labname_laba06s  labname_project1\n12          -0.724861  -0.925410  0           0           0            0            0            0            0            0            0            0            0            0            0           0            0            0            0            0            0            0            0            0            0            0           0            0            1           0           0           0           0                 0              0              0               0               0               1                0               0               0                0                   1\n1084         1.221234   0.243835  0           0           0            0            0            0            1            0            0            0            0            0            0           0            0            0            0            0            0            0            0            0            0            0           0            0            0           0           0           0           0                 0              0              0               0               0               0                0               0               0                1                   1\n1143         2.401652   0.711533  0           0           0            0            0            0            0            0            0            0            0            0            0           0            0            0            0            0            0            0            0            0            0            0           0            0            1           0           0           0           0                 0              0              0               0               0               0                0               0               0                1                   1\n1128         1.859298   0.477684  0           0           0            0            0            0            1            0            0            0            0            0            0           0            0            0            0            0            0            0            0            0            0            0           0            0            0           0           0           0           0                 0              0              0               0               0               0                0               0               0                1                   1\n1119         0.615073   0.477684  0           0           0            0            0            0            0            0            0            0            0            0            0           0            0            0            0            0            1            0            0            0            0            0           0            0            0           0           0           0           0                 0              0              0               0               0               0                0               0               0                1                   1\ndtype: int64"
     },
     "execution_count": 6,
     "metadata": {},
     "output_type": "execute_result"
    }
   ],
   "source": [
    "X_test.value_counts().head()"
   ]
  },
  {
   "cell_type": "code",
   "execution_count": 7,
   "metadata": {},
   "outputs": [],
   "source": [
    "X_train, X_test, y_train, y_test = train_test_split(x, y, test_size=0.2,\n",
    "                                                    random_state=21, stratify=y)"
   ]
  },
  {
   "cell_type": "code",
   "execution_count": 8,
   "metadata": {},
   "outputs": [
    {
     "data": {
      "text/plain": "Unnamed: 0  numTrials  hour       uid_user_0  uid_user_1  uid_user_10  uid_user_11  uid_user_12  uid_user_13  uid_user_14  uid_user_15  uid_user_16  uid_user_17  uid_user_18  uid_user_19  uid_user_2  uid_user_20  uid_user_21  uid_user_22  uid_user_23  uid_user_24  uid_user_25  uid_user_26  uid_user_27  uid_user_28  uid_user_29  uid_user_3  uid_user_30  uid_user_31  uid_user_4  uid_user_6  uid_user_7  uid_user_8  labname_code_rvw  labname_lab02  labname_lab03  labname_lab03s  labname_lab05s  labname_laba04  labname_laba04s  labname_laba05  labname_laba06  labname_laba06s  labname_project1\n0           -0.788667  -2.562352  0           0           0            0            0            0            0            0            0            0            0            0            0           0            0            0            0            0            0            0            0            0            0            0           0            0            1           0           0           0           0                 0              0              0               0               0               0                0               0               0                1                   1\n1116         0.583170   0.477684  0           0           0            0            0            0            0            0            0            0            0            0            0           0            0            0            0            0            1            0            0            0            0            0           0            0            0           0           0           0           0                 0              0              0               0               0               0                0               0               0                1                   1\n1125         2.274039   0.477684  0           0           0            0            0            0            0            0            0            0            0            0            0           0            0            0            0            0            0            0            0            0            0            0           0            0            1           0           0           0           0                 0              0              0               0               0               0                0               0               0                1                   1\n1124         0.710783   0.477684  0           0           0            0            0            0            0            0            0            0            0            0            0           0            0            0            0            0            1            0            0            0            0            0           0            0            0           0           0           0           0                 0              0              0               0               0               0                0               0               0                1                   1\n1123         0.678880   0.477684  0           0           0            0            0            0            0            0            0            0            0            0            0           0            0            0            0            0            1            0            0            0            0            0           0            0            0           0           0           0           0                 0              0              0               0               0               0                0               0               0                1                   1\ndtype: int64"
     },
     "execution_count": 8,
     "metadata": {},
     "output_type": "execute_result"
    }
   ],
   "source": [
    "X_train.value_counts().head()"
   ]
  },
  {
   "cell_type": "code",
   "execution_count": 9,
   "metadata": {},
   "outputs": [
    {
     "data": {
      "text/plain": "Unnamed: 0  numTrials  hour       uid_user_0  uid_user_1  uid_user_10  uid_user_11  uid_user_12  uid_user_13  uid_user_14  uid_user_15  uid_user_16  uid_user_17  uid_user_18  uid_user_19  uid_user_2  uid_user_20  uid_user_21  uid_user_22  uid_user_23  uid_user_24  uid_user_25  uid_user_26  uid_user_27  uid_user_28  uid_user_29  uid_user_3  uid_user_30  uid_user_31  uid_user_4  uid_user_6  uid_user_7  uid_user_8  labname_code_rvw  labname_lab02  labname_lab03  labname_lab03s  labname_lab05s  labname_laba04  labname_laba04s  labname_laba05  labname_laba06  labname_laba06s  labname_project1\n16          -0.788667  -0.691561  0           0           0            0            0            0            0            0            0            0            0            0            1           0            0            0            0            0            0            0            0            0            0            0           0            0            0           0           0           0           0                 0              0              0               0               0               1                0               0               0                0                   1\n1135         0.870299   0.711533  0           0           0            0            0            0            0            0            0            0            0            0            0           0            0            0            0            0            1            0            0            0            0            0           0            0            0           0           0           0           0                 0              0              0               0               0               0                0               0               0                1                   1\n1181         0.902202   1.179231  0           0           0            0            0            0            0            0            0            0            0            0            0           0            0            0            0            0            1            0            0            0            0            0           0            0            0           0           0           0           0                 0              0              0               0               0               0                0               0               0                1                   1\n1169         2.816394   0.945382  0           0           0            0            0            0            0            0            0            0            0            0            0           0            0            0            0            0            0            0            0            0            0            0           0            0            1           0           0           0           0                 0              0              0               0               0               0                0               0               0                1                   1\n1163         2.720684   0.945382  0           0           0            0            0            0            0            0            0            0            0            0            0           0            0            0            0            0            0            0            0            0            0            0           0            0            1           0           0           0           0                 0              0              0               0               0               0                0               0               0                1                   1\ndtype: int64"
     },
     "execution_count": 9,
     "metadata": {},
     "output_type": "execute_result"
    }
   ],
   "source": [
    "X_test.value_counts().head()"
   ]
  },
  {
   "cell_type": "markdown",
   "metadata": {},
   "source": [
    "## 2. Baseline models"
   ]
  },
  {
   "cell_type": "markdown",
   "metadata": {},
   "source": [
    "1. Train exactly the same baseline models from the previous exercise and calculate the accuracies using the test dataset with stratification.\n",
    "2. Did all the models show the similar values of the metric? Which one has the largest difference comparing the current exercise and the previous? Put the answer to the markdown cell in the end of the section."
   ]
  },
  {
   "cell_type": "markdown",
   "metadata": {},
   "source": [
    "### a. Logreg"
   ]
  },
  {
   "cell_type": "code",
   "execution_count": 10,
   "metadata": {},
   "outputs": [
    {
     "name": "stderr",
     "output_type": "stream",
     "text": [
      "C:\\Users\\salav\\AppData\\Local\\Programs\\Python\\Python310\\lib\\site-packages\\sklearn\\linear_model\\_logistic.py:444: ConvergenceWarning: lbfgs failed to converge (status=1):\n",
      "STOP: TOTAL NO. of ITERATIONS REACHED LIMIT.\n",
      "\n",
      "Increase the number of iterations (max_iter) or scale the data as shown in:\n",
      "    https://scikit-learn.org/stable/modules/preprocessing.html\n",
      "Please also refer to the documentation for alternative solver options:\n",
      "    https://scikit-learn.org/stable/modules/linear_model.html#logistic-regression\n",
      "  n_iter_i = _check_optimize_result(\n"
     ]
    },
    {
     "data": {
      "text/plain": "LogisticRegression(fit_intercept=False, random_state=21)",
      "text/html": "<style>#sk-container-id-1 {color: black;background-color: white;}#sk-container-id-1 pre{padding: 0;}#sk-container-id-1 div.sk-toggleable {background-color: white;}#sk-container-id-1 label.sk-toggleable__label {cursor: pointer;display: block;width: 100%;margin-bottom: 0;padding: 0.3em;box-sizing: border-box;text-align: center;}#sk-container-id-1 label.sk-toggleable__label-arrow:before {content: \"▸\";float: left;margin-right: 0.25em;color: #696969;}#sk-container-id-1 label.sk-toggleable__label-arrow:hover:before {color: black;}#sk-container-id-1 div.sk-estimator:hover label.sk-toggleable__label-arrow:before {color: black;}#sk-container-id-1 div.sk-toggleable__content {max-height: 0;max-width: 0;overflow: hidden;text-align: left;background-color: #f0f8ff;}#sk-container-id-1 div.sk-toggleable__content pre {margin: 0.2em;color: black;border-radius: 0.25em;background-color: #f0f8ff;}#sk-container-id-1 input.sk-toggleable__control:checked~div.sk-toggleable__content {max-height: 200px;max-width: 100%;overflow: auto;}#sk-container-id-1 input.sk-toggleable__control:checked~label.sk-toggleable__label-arrow:before {content: \"▾\";}#sk-container-id-1 div.sk-estimator input.sk-toggleable__control:checked~label.sk-toggleable__label {background-color: #d4ebff;}#sk-container-id-1 div.sk-label input.sk-toggleable__control:checked~label.sk-toggleable__label {background-color: #d4ebff;}#sk-container-id-1 input.sk-hidden--visually {border: 0;clip: rect(1px 1px 1px 1px);clip: rect(1px, 1px, 1px, 1px);height: 1px;margin: -1px;overflow: hidden;padding: 0;position: absolute;width: 1px;}#sk-container-id-1 div.sk-estimator {font-family: monospace;background-color: #f0f8ff;border: 1px dotted black;border-radius: 0.25em;box-sizing: border-box;margin-bottom: 0.5em;}#sk-container-id-1 div.sk-estimator:hover {background-color: #d4ebff;}#sk-container-id-1 div.sk-parallel-item::after {content: \"\";width: 100%;border-bottom: 1px solid gray;flex-grow: 1;}#sk-container-id-1 div.sk-label:hover label.sk-toggleable__label {background-color: #d4ebff;}#sk-container-id-1 div.sk-serial::before {content: \"\";position: absolute;border-left: 1px solid gray;box-sizing: border-box;top: 0;bottom: 0;left: 50%;z-index: 0;}#sk-container-id-1 div.sk-serial {display: flex;flex-direction: column;align-items: center;background-color: white;padding-right: 0.2em;padding-left: 0.2em;position: relative;}#sk-container-id-1 div.sk-item {position: relative;z-index: 1;}#sk-container-id-1 div.sk-parallel {display: flex;align-items: stretch;justify-content: center;background-color: white;position: relative;}#sk-container-id-1 div.sk-item::before, #sk-container-id-1 div.sk-parallel-item::before {content: \"\";position: absolute;border-left: 1px solid gray;box-sizing: border-box;top: 0;bottom: 0;left: 50%;z-index: -1;}#sk-container-id-1 div.sk-parallel-item {display: flex;flex-direction: column;z-index: 1;position: relative;background-color: white;}#sk-container-id-1 div.sk-parallel-item:first-child::after {align-self: flex-end;width: 50%;}#sk-container-id-1 div.sk-parallel-item:last-child::after {align-self: flex-start;width: 50%;}#sk-container-id-1 div.sk-parallel-item:only-child::after {width: 0;}#sk-container-id-1 div.sk-dashed-wrapped {border: 1px dashed gray;margin: 0 0.4em 0.5em 0.4em;box-sizing: border-box;padding-bottom: 0.4em;background-color: white;}#sk-container-id-1 div.sk-label label {font-family: monospace;font-weight: bold;display: inline-block;line-height: 1.2em;}#sk-container-id-1 div.sk-label-container {text-align: center;}#sk-container-id-1 div.sk-container {/* jupyter's `normalize.less` sets `[hidden] { display: none; }` but bootstrap.min.css set `[hidden] { display: none !important; }` so we also need the `!important` here to be able to override the default hidden behavior on the sphinx rendered scikit-learn.org. See: https://github.com/scikit-learn/scikit-learn/issues/21755 */display: inline-block !important;position: relative;}#sk-container-id-1 div.sk-text-repr-fallback {display: none;}</style><div id=\"sk-container-id-1\" class=\"sk-top-container\"><div class=\"sk-text-repr-fallback\"><pre>LogisticRegression(fit_intercept=False, random_state=21)</pre><b>In a Jupyter environment, please rerun this cell to show the HTML representation or trust the notebook. <br />On GitHub, the HTML representation is unable to render, please try loading this page with nbviewer.org.</b></div><div class=\"sk-container\" hidden><div class=\"sk-item\"><div class=\"sk-estimator sk-toggleable\"><input class=\"sk-toggleable__control sk-hidden--visually\" id=\"sk-estimator-id-1\" type=\"checkbox\" checked><label for=\"sk-estimator-id-1\" class=\"sk-toggleable__label sk-toggleable__label-arrow\">LogisticRegression</label><div class=\"sk-toggleable__content\"><pre>LogisticRegression(fit_intercept=False, random_state=21)</pre></div></div></div></div></div>"
     },
     "execution_count": 10,
     "metadata": {},
     "output_type": "execute_result"
    }
   ],
   "source": [
    "logreg = LogisticRegression(random_state=21, fit_intercept=False)\n",
    "logreg.fit(X_train, y_train)"
   ]
  },
  {
   "cell_type": "code",
   "execution_count": 11,
   "metadata": {},
   "outputs": [
    {
     "data": {
      "text/plain": "0.5828402366863905"
     },
     "execution_count": 11,
     "metadata": {},
     "output_type": "execute_result"
    }
   ],
   "source": [
    "y_pred = logreg.predict(X_test)\n",
    "accuracy_score(y_test, y_pred)"
   ]
  },
  {
   "cell_type": "markdown",
   "metadata": {},
   "source": [
    "### b. SVM"
   ]
  },
  {
   "cell_type": "code",
   "execution_count": null,
   "metadata": {
    "pycharm": {
     "is_executing": true
    }
   },
   "outputs": [],
   "source": [
    "svc = SVC(kernel='linear', probability=True, random_state=21)\n",
    "svc.fit(X_train, y_train)"
   ]
  },
  {
   "cell_type": "code",
   "execution_count": null,
   "metadata": {
    "pycharm": {
     "is_executing": true
    }
   },
   "outputs": [],
   "source": [
    "y_pred = svc.predict(X_test)\n",
    "accuracy_score(y_test, y_pred)"
   ]
  },
  {
   "cell_type": "markdown",
   "metadata": {},
   "source": [
    "### c. Decision tree"
   ]
  },
  {
   "cell_type": "code",
   "execution_count": null,
   "metadata": {
    "pycharm": {
     "is_executing": true
    }
   },
   "outputs": [],
   "source": [
    "tree = DecisionTreeClassifier(max_depth=4, random_state=21)\n",
    "tree.fit(X_train, y_train)"
   ]
  },
  {
   "cell_type": "code",
   "execution_count": null,
   "metadata": {
    "pycharm": {
     "is_executing": true
    }
   },
   "outputs": [],
   "source": [
    "y_pred = tree.predict(X_test)\n",
    "accuracy_score(y_test, y_pred)"
   ]
  },
  {
   "cell_type": "markdown",
   "metadata": {},
   "source": [
    "### d. Random forest"
   ]
  },
  {
   "cell_type": "code",
   "execution_count": null,
   "metadata": {
    "pycharm": {
     "is_executing": true
    }
   },
   "outputs": [],
   "source": [
    "forest = RandomForestClassifier(max_depth=25, n_estimators=100, random_state=21)\n",
    "forest.fit(X_train, y_train)"
   ]
  },
  {
   "cell_type": "code",
   "execution_count": null,
   "metadata": {
    "pycharm": {
     "is_executing": true
    }
   },
   "outputs": [],
   "source": [
    "y_pred = forest.predict(X_test)\n",
    "accuracy_score(y_test, y_pred)"
   ]
  },
  {
   "cell_type": "markdown",
   "metadata": {},
   "source": [
    "Самое большое расхождение у рандом фореста"
   ]
  },
  {
   "cell_type": "markdown",
   "metadata": {},
   "source": [
    "## 3. Crossvalidation"
   ]
  },
  {
   "cell_type": "markdown",
   "metadata": {},
   "source": [
    "We could play with parameters of the model trying to achive a better accuracy on the test dataset, but it is a bad practice. It leads us again to overfitting. Test dataset is only for checking quality of a final model.\n",
    "\n",
    "But there is another way of solving the problem – crossvalidation. It does not use test dataset, but creates one more split of train dataset. Again, there are different ways of doing it, but the common thing is that there is a validation dataset that is used for hyperparameters optimization."
   ]
  },
  {
   "cell_type": "markdown",
   "metadata": {},
   "source": [
    "1. Using `cross_val_score` with `cv=10` calculate the mean accuracy and standard deviation for every model that you used before (logreg with `solver='liblinear'`, SVC, decision tree, random forest)."
   ]
  },
  {
   "cell_type": "markdown",
   "metadata": {},
   "source": [
    "### a. Logreg"
   ]
  },
  {
   "cell_type": "code",
   "execution_count": null,
   "metadata": {
    "pycharm": {
     "is_executing": true
    }
   },
   "outputs": [],
   "source": [
    "logreg = LogisticRegression(solver='liblinear', random_state=21)\n",
    "scores = cross_val_score(logreg, x, y, scoring='accuracy', cv=10)"
   ]
  },
  {
   "cell_type": "code",
   "execution_count": null,
   "metadata": {
    "pycharm": {
     "is_executing": true
    }
   },
   "outputs": [],
   "source": [
    "np.mean(scores)"
   ]
  },
  {
   "cell_type": "code",
   "execution_count": null,
   "metadata": {
    "pycharm": {
     "is_executing": true
    }
   },
   "outputs": [],
   "source": [
    "np.std(scores)"
   ]
  },
  {
   "cell_type": "markdown",
   "metadata": {},
   "source": [
    "### b. SVM"
   ]
  },
  {
   "cell_type": "code",
   "execution_count": null,
   "metadata": {
    "pycharm": {
     "is_executing": true
    }
   },
   "outputs": [],
   "source": [
    "svc = SVC(kernel='linear', probability=True, random_state=21)\n",
    "scores = cross_val_score(svc, x, y, scoring='accuracy', cv=10)\n",
    "np.mean(scores)\n"
   ]
  },
  {
   "cell_type": "code",
   "execution_count": null,
   "metadata": {
    "pycharm": {
     "is_executing": true
    }
   },
   "outputs": [],
   "source": [
    "np.std(scores)"
   ]
  },
  {
   "cell_type": "markdown",
   "metadata": {},
   "source": [
    "### c. Decision tree"
   ]
  },
  {
   "cell_type": "code",
   "execution_count": null,
   "metadata": {
    "pycharm": {
     "is_executing": true
    }
   },
   "outputs": [],
   "source": [
    "tree = DecisionTreeClassifier(max_depth=4, random_state=21)\n",
    "scores = cross_val_score(tree, x, y, scoring='accuracy', cv=10)\n",
    "np.mean(scores)"
   ]
  },
  {
   "cell_type": "code",
   "execution_count": null,
   "metadata": {
    "pycharm": {
     "is_executing": true
    }
   },
   "outputs": [],
   "source": [
    "np.std(scores)"
   ]
  },
  {
   "cell_type": "markdown",
   "metadata": {},
   "source": [
    "### d. Random forest"
   ]
  },
  {
   "cell_type": "code",
   "execution_count": null,
   "metadata": {
    "pycharm": {
     "is_executing": true
    }
   },
   "outputs": [],
   "source": [
    "forest = RandomForestClassifier(max_depth=25, n_estimators=100, random_state=21)\n",
    "scores = cross_val_score(forest, x, y, scoring='accuracy', cv=10)\n",
    "np.mean(scores)"
   ]
  },
  {
   "cell_type": "code",
   "execution_count": null,
   "metadata": {
    "pycharm": {
     "is_executing": true
    }
   },
   "outputs": [],
   "source": [
    "np.std(scores)"
   ]
  },
  {
   "cell_type": "markdown",
   "metadata": {},
   "source": [
    "## 4. Optimization"
   ]
  },
  {
   "cell_type": "markdown",
   "metadata": {},
   "source": [
    "1. Choose the best model and play a little bit with the parameters on cross-validation, find a good enough parameter or a combination of the parameters.\n",
    "2. Calculate the accuracy for the final model on the test dataset.\n",
    "3. Draw a plot that displays the top-10 most  important features for that model.\n",
    "4. Save the model using `joblib`.\n",
    "5. Load the model, make predictions for the test dataset and calculate the accuracy."
   ]
  },
  {
   "cell_type": "code",
   "execution_count": null,
   "metadata": {
    "pycharm": {
     "is_executing": true
    }
   },
   "outputs": [],
   "source": [
    "model = RandomForestClassifier(max_depth=36, n_estimators=100, random_state=21)\n",
    "model.fit(X_train, y_train)\n",
    "y_pred = model.predict(X_test)\n",
    "accuracy_score(y_test, y_pred)"
   ]
  },
  {
   "cell_type": "code",
   "execution_count": null,
   "metadata": {
    "pycharm": {
     "is_executing": true
    }
   },
   "outputs": [],
   "source": [
    "def plot_features(coefs, features, n=10):\n",
    "    fig, ax = plt.subplots(figsize=(15, 8))\n",
    "    t = dict(zip(features, coefs))\n",
    "    sp = sorted(t.items(), key=lambda x: (-x[1], x[0]))\n",
    "    arr = np.array([i[1] for i in sp])[:n]\n",
    "    col = np.array([i[0] for i in sp])[:n]\n",
    "    # coefs /= coefs.sum()\n",
    "    # indices = coefs.argsort()[::-1][:n]\n",
    "    ax.barh(np.arange(n), \n",
    "    arr, \n",
    "    color='blue')\n",
    "    ax.set_yticks(np.arange(n))\n",
    "    ax.set_yticklabels(col)\n",
    "    ax.invert_yaxis()\n",
    "    plt.show()"
   ]
  },
  {
   "cell_type": "code",
   "execution_count": null,
   "metadata": {
    "pycharm": {
     "is_executing": true
    }
   },
   "outputs": [],
   "source": [
    "plot_features(model.feature_importances_, x.columns)"
   ]
  },
  {
   "cell_type": "code",
   "execution_count": null,
   "metadata": {
    "pycharm": {
     "is_executing": true
    }
   },
   "outputs": [],
   "source": [
    "joblib.dump(model, '../data/best_model.joblib')"
   ]
  },
  {
   "cell_type": "code",
   "execution_count": null,
   "metadata": {
    "pycharm": {
     "is_executing": true
    }
   },
   "outputs": [],
   "source": [
    "best_model = joblib.load('../data/best_model.joblib')"
   ]
  },
  {
   "cell_type": "code",
   "execution_count": null,
   "metadata": {
    "pycharm": {
     "is_executing": true
    }
   },
   "outputs": [],
   "source": [
    "y_pred = best_model.predict(X_test)"
   ]
  },
  {
   "cell_type": "code",
   "execution_count": null,
   "metadata": {
    "pycharm": {
     "is_executing": true
    }
   },
   "outputs": [],
   "source": [
    "accuracy_score(y_test, y_pred)"
   ]
  }
 ],
 "metadata": {
  "kernelspec": {
   "display_name": "Python 3",
   "language": "python",
   "name": "python3"
  },
  "language_info": {
   "codemirror_mode": {
    "name": "ipython",
    "version": 3
   },
   "file_extension": ".py",
   "mimetype": "text/x-python",
   "name": "python",
   "nbconvert_exporter": "python",
   "pygments_lexer": "ipython3",
   "version": "3.9.8"
  }
 },
 "nbformat": 4,
 "nbformat_minor": 4
}
