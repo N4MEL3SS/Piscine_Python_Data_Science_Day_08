{
 "cells": [
  {
   "cell_type": "markdown",
   "metadata": {},
   "source": [
    "# Day 08. Exercise 00\n",
    "# Binary classifier. Logistic regression"
   ]
  },
  {
   "cell_type": "markdown",
   "metadata": {},
   "source": [
    "## 0. Imports"
   ]
  },
  {
   "cell_type": "code",
   "execution_count": 1,
   "metadata": {},
   "outputs": [],
   "source": [
    "import pandas as pd\n",
    "import numpy as np\n",
    "import matplotlib.pyplot as plt\n",
    "from sklearn.linear_model import LogisticRegression\n",
    "from sklearn.metrics import accuracy_score"
   ]
  },
  {
   "cell_type": "markdown",
   "metadata": {},
   "source": [
    "## 1. Preprocessing"
   ]
  },
  {
   "cell_type": "markdown",
   "metadata": {},
   "source": [
    "- Get the data from the file [`checker-timestamp.csv`](https://drive.google.com/file/d/1pooM4cITtG249msX3GK_6W0eEiblzAf5/view?usp=sharing).\n",
    "\n",
    "\n",
    "- Create a dataframe `df` with the columns: `date`, `am`, `pm`, `target`, where `date` is the date of the day, `am` is the number of the commits during the day before midday (integer), `pm` is the number of commits during the day after midday (integer), `target` is weekend/working_day."
   ]
  },
  {
   "cell_type": "code",
   "execution_count": 2,
   "metadata": {},
   "outputs": [
    {
     "data": {
      "text/plain": "                   timestamp\n0 2020-04-17 05:19:02.744528\n1 2020-04-17 05:22:35.249331\n2 2020-04-17 05:22:45.549397\n3 2020-04-17 05:34:14.691200\n4 2020-04-17 05:34:24.422370",
      "text/html": "<div>\n<style scoped>\n    .dataframe tbody tr th:only-of-type {\n        vertical-align: middle;\n    }\n\n    .dataframe tbody tr th {\n        vertical-align: top;\n    }\n\n    .dataframe thead th {\n        text-align: right;\n    }\n</style>\n<table border=\"1\" class=\"dataframe\">\n  <thead>\n    <tr style=\"text-align: right;\">\n      <th></th>\n      <th>timestamp</th>\n    </tr>\n  </thead>\n  <tbody>\n    <tr>\n      <th>0</th>\n      <td>2020-04-17 05:19:02.744528</td>\n    </tr>\n    <tr>\n      <th>1</th>\n      <td>2020-04-17 05:22:35.249331</td>\n    </tr>\n    <tr>\n      <th>2</th>\n      <td>2020-04-17 05:22:45.549397</td>\n    </tr>\n    <tr>\n      <th>3</th>\n      <td>2020-04-17 05:34:14.691200</td>\n    </tr>\n    <tr>\n      <th>4</th>\n      <td>2020-04-17 05:34:24.422370</td>\n    </tr>\n  </tbody>\n</table>\n</div>"
     },
     "execution_count": 2,
     "metadata": {},
     "output_type": "execute_result"
    }
   ],
   "source": [
    "df = pd.read_csv('..\\\\data\\\\checker_timestamp.csv', parse_dates=['timestamp'])\n",
    "df.head()"
   ]
  },
  {
   "cell_type": "code",
   "execution_count": 3,
   "metadata": {},
   "outputs": [
    {
     "name": "stdout",
     "output_type": "stream",
     "text": [
      "<class 'pandas.core.frame.DataFrame'>\n",
      "RangeIndex: 3207 entries, 0 to 3206\n",
      "Data columns (total 1 columns):\n",
      " #   Column     Non-Null Count  Dtype         \n",
      "---  ------     --------------  -----         \n",
      " 0   timestamp  3207 non-null   datetime64[ns]\n",
      "dtypes: datetime64[ns](1)\n",
      "memory usage: 25.2 KB\n"
     ]
    }
   ],
   "source": [
    "df.info()"
   ]
  },
  {
   "cell_type": "code",
   "execution_count": 4,
   "metadata": {},
   "outputs": [
    {
     "data": {
      "text/plain": "                   timestamp        date       target  hour  am  pm\n0 2020-04-17 05:19:02.744528  2020-04-17  working_day     5   1   0\n1 2020-04-17 05:22:35.249331  2020-04-17  working_day     5   1   0\n2 2020-04-17 05:22:45.549397  2020-04-17  working_day     5   1   0\n3 2020-04-17 05:34:14.691200  2020-04-17  working_day     5   1   0\n4 2020-04-17 05:34:24.422370  2020-04-17  working_day     5   1   0",
      "text/html": "<div>\n<style scoped>\n    .dataframe tbody tr th:only-of-type {\n        vertical-align: middle;\n    }\n\n    .dataframe tbody tr th {\n        vertical-align: top;\n    }\n\n    .dataframe thead th {\n        text-align: right;\n    }\n</style>\n<table border=\"1\" class=\"dataframe\">\n  <thead>\n    <tr style=\"text-align: right;\">\n      <th></th>\n      <th>timestamp</th>\n      <th>date</th>\n      <th>target</th>\n      <th>hour</th>\n      <th>am</th>\n      <th>pm</th>\n    </tr>\n  </thead>\n  <tbody>\n    <tr>\n      <th>0</th>\n      <td>2020-04-17 05:19:02.744528</td>\n      <td>2020-04-17</td>\n      <td>working_day</td>\n      <td>5</td>\n      <td>1</td>\n      <td>0</td>\n    </tr>\n    <tr>\n      <th>1</th>\n      <td>2020-04-17 05:22:35.249331</td>\n      <td>2020-04-17</td>\n      <td>working_day</td>\n      <td>5</td>\n      <td>1</td>\n      <td>0</td>\n    </tr>\n    <tr>\n      <th>2</th>\n      <td>2020-04-17 05:22:45.549397</td>\n      <td>2020-04-17</td>\n      <td>working_day</td>\n      <td>5</td>\n      <td>1</td>\n      <td>0</td>\n    </tr>\n    <tr>\n      <th>3</th>\n      <td>2020-04-17 05:34:14.691200</td>\n      <td>2020-04-17</td>\n      <td>working_day</td>\n      <td>5</td>\n      <td>1</td>\n      <td>0</td>\n    </tr>\n    <tr>\n      <th>4</th>\n      <td>2020-04-17 05:34:24.422370</td>\n      <td>2020-04-17</td>\n      <td>working_day</td>\n      <td>5</td>\n      <td>1</td>\n      <td>0</td>\n    </tr>\n  </tbody>\n</table>\n</div>"
     },
     "execution_count": 4,
     "metadata": {},
     "output_type": "execute_result"
    }
   ],
   "source": [
    "df['date'] = df['timestamp'].dt.date\n",
    "df['target'] = np.where(df['timestamp'].dt.dayofweek < 5, 'working_day', 'weekend')\n",
    "df['hour'] = df['timestamp'].dt.hour\n",
    "df['am'] = np.where((df['timestamp'].dt.hour < 12) & (df['hour'] >= 0), 1, 0)\n",
    "df['pm'] = np.where((df['timestamp'].dt.hour < 12) & (df['hour'] >= 0), 0, 1)\n",
    "df.head()"
   ]
  },
  {
   "cell_type": "code",
   "execution_count": 5,
   "metadata": {},
   "outputs": [
    {
     "data": {
      "text/plain": "                      timestamp        date       target  hour  am  pm\n3202 2020-05-21 20:19:06.872761  2020-05-21  working_day    20   0   1\n3203 2020-05-21 20:22:41.785725  2020-05-21  working_day    20   0   1\n3204 2020-05-21 20:22:41.877806  2020-05-21  working_day    20   0   1\n3205 2020-05-21 20:37:00.129678  2020-05-21  working_day    20   0   1\n3206 2020-05-21 20:37:00.290491  2020-05-21  working_day    20   0   1",
      "text/html": "<div>\n<style scoped>\n    .dataframe tbody tr th:only-of-type {\n        vertical-align: middle;\n    }\n\n    .dataframe tbody tr th {\n        vertical-align: top;\n    }\n\n    .dataframe thead th {\n        text-align: right;\n    }\n</style>\n<table border=\"1\" class=\"dataframe\">\n  <thead>\n    <tr style=\"text-align: right;\">\n      <th></th>\n      <th>timestamp</th>\n      <th>date</th>\n      <th>target</th>\n      <th>hour</th>\n      <th>am</th>\n      <th>pm</th>\n    </tr>\n  </thead>\n  <tbody>\n    <tr>\n      <th>3202</th>\n      <td>2020-05-21 20:19:06.872761</td>\n      <td>2020-05-21</td>\n      <td>working_day</td>\n      <td>20</td>\n      <td>0</td>\n      <td>1</td>\n    </tr>\n    <tr>\n      <th>3203</th>\n      <td>2020-05-21 20:22:41.785725</td>\n      <td>2020-05-21</td>\n      <td>working_day</td>\n      <td>20</td>\n      <td>0</td>\n      <td>1</td>\n    </tr>\n    <tr>\n      <th>3204</th>\n      <td>2020-05-21 20:22:41.877806</td>\n      <td>2020-05-21</td>\n      <td>working_day</td>\n      <td>20</td>\n      <td>0</td>\n      <td>1</td>\n    </tr>\n    <tr>\n      <th>3205</th>\n      <td>2020-05-21 20:37:00.129678</td>\n      <td>2020-05-21</td>\n      <td>working_day</td>\n      <td>20</td>\n      <td>0</td>\n      <td>1</td>\n    </tr>\n    <tr>\n      <th>3206</th>\n      <td>2020-05-21 20:37:00.290491</td>\n      <td>2020-05-21</td>\n      <td>working_day</td>\n      <td>20</td>\n      <td>0</td>\n      <td>1</td>\n    </tr>\n  </tbody>\n</table>\n</div>"
     },
     "execution_count": 5,
     "metadata": {},
     "output_type": "execute_result"
    }
   ],
   "source": [
    "df.tail()"
   ]
  },
  {
   "cell_type": "code",
   "execution_count": 6,
   "metadata": {},
   "outputs": [
    {
     "name": "stdout",
     "output_type": "stream",
     "text": [
      "<class 'pandas.core.frame.DataFrame'>\n",
      "RangeIndex: 3207 entries, 0 to 3206\n",
      "Data columns (total 6 columns):\n",
      " #   Column     Non-Null Count  Dtype         \n",
      "---  ------     --------------  -----         \n",
      " 0   timestamp  3207 non-null   datetime64[ns]\n",
      " 1   date       3207 non-null   object        \n",
      " 2   target     3207 non-null   object        \n",
      " 3   hour       3207 non-null   int64         \n",
      " 4   am         3207 non-null   int32         \n",
      " 5   pm         3207 non-null   int32         \n",
      "dtypes: datetime64[ns](1), int32(2), int64(1), object(2)\n",
      "memory usage: 125.4+ KB\n"
     ]
    }
   ],
   "source": [
    "df.info()"
   ]
  },
  {
   "cell_type": "code",
   "execution_count": 7,
   "metadata": {},
   "outputs": [
    {
     "data": {
      "text/plain": "            am  pm       target\ndate                           \n2020-04-17  21   2  working_day\n2020-04-18   1  68      weekend\n2020-04-19  18  15      weekend\n2020-04-20   2  23  working_day\n2020-04-21   0  25  working_day",
      "text/html": "<div>\n<style scoped>\n    .dataframe tbody tr th:only-of-type {\n        vertical-align: middle;\n    }\n\n    .dataframe tbody tr th {\n        vertical-align: top;\n    }\n\n    .dataframe thead th {\n        text-align: right;\n    }\n</style>\n<table border=\"1\" class=\"dataframe\">\n  <thead>\n    <tr style=\"text-align: right;\">\n      <th></th>\n      <th>am</th>\n      <th>pm</th>\n      <th>target</th>\n    </tr>\n    <tr>\n      <th>date</th>\n      <th></th>\n      <th></th>\n      <th></th>\n    </tr>\n  </thead>\n  <tbody>\n    <tr>\n      <th>2020-04-17</th>\n      <td>21</td>\n      <td>2</td>\n      <td>working_day</td>\n    </tr>\n    <tr>\n      <th>2020-04-18</th>\n      <td>1</td>\n      <td>68</td>\n      <td>weekend</td>\n    </tr>\n    <tr>\n      <th>2020-04-19</th>\n      <td>18</td>\n      <td>15</td>\n      <td>weekend</td>\n    </tr>\n    <tr>\n      <th>2020-04-20</th>\n      <td>2</td>\n      <td>23</td>\n      <td>working_day</td>\n    </tr>\n    <tr>\n      <th>2020-04-21</th>\n      <td>0</td>\n      <td>25</td>\n      <td>working_day</td>\n    </tr>\n  </tbody>\n</table>\n</div>"
     },
     "execution_count": 7,
     "metadata": {},
     "output_type": "execute_result"
    }
   ],
   "source": [
    "df = df.groupby(by=['date']).agg({'am': sum, 'pm': sum, 'target': 'last'})\n",
    "df.head()"
   ]
  },
  {
   "cell_type": "code",
   "execution_count": 8,
   "metadata": {},
   "outputs": [
    {
     "name": "stdout",
     "output_type": "stream",
     "text": [
      "<class 'pandas.core.frame.DataFrame'>\n",
      "Index: 35 entries, 2020-04-17 to 2020-05-21\n",
      "Data columns (total 3 columns):\n",
      " #   Column  Non-Null Count  Dtype \n",
      "---  ------  --------------  ----- \n",
      " 0   am      35 non-null     int32 \n",
      " 1   pm      35 non-null     int32 \n",
      " 2   target  35 non-null     object\n",
      "dtypes: int32(2), object(1)\n",
      "memory usage: 840.0+ bytes\n"
     ]
    }
   ],
   "source": [
    "df.info()"
   ]
  },
  {
   "cell_type": "code",
   "execution_count": 8,
   "metadata": {},
   "outputs": [],
   "source": []
  },
  {
   "cell_type": "code",
   "execution_count": 8,
   "metadata": {},
   "outputs": [],
   "source": []
  },
  {
   "cell_type": "code",
   "execution_count": 8,
   "metadata": {},
   "outputs": [],
   "source": []
  },
  {
   "cell_type": "code",
   "execution_count": 8,
   "metadata": {},
   "outputs": [],
   "source": []
  },
  {
   "cell_type": "code",
   "execution_count": 8,
   "metadata": {},
   "outputs": [],
   "source": []
  },
  {
   "cell_type": "code",
   "execution_count": 8,
   "metadata": {},
   "outputs": [],
   "source": []
  },
  {
   "cell_type": "code",
   "execution_count": 8,
   "metadata": {},
   "outputs": [],
   "source": []
  },
  {
   "cell_type": "code",
   "execution_count": 8,
   "metadata": {},
   "outputs": [],
   "source": []
  },
  {
   "cell_type": "code",
   "execution_count": 8,
   "metadata": {},
   "outputs": [],
   "source": []
  },
  {
   "cell_type": "code",
   "execution_count": 8,
   "metadata": {},
   "outputs": [],
   "source": []
  },
  {
   "cell_type": "code",
   "execution_count": 8,
   "metadata": {},
   "outputs": [],
   "source": []
  },
  {
   "cell_type": "code",
   "execution_count": 8,
   "metadata": {},
   "outputs": [],
   "source": []
  },
  {
   "cell_type": "code",
   "execution_count": 8,
   "metadata": {},
   "outputs": [],
   "source": []
  },
  {
   "cell_type": "markdown",
   "metadata": {},
   "source": [
    "## 2. Exploratory analysis"
   ]
  },
  {
   "cell_type": "markdown",
   "metadata": {},
   "source": [
    "- Create a plot where `x` is am, `y` is pm, each dot is a day, working days and weekends must have different colors.\n",
    "\n",
    "\n",
    "- By looking at the graph do you think it will be easy to classify the days having those two features? Put your answer in the markdown cell in the end of that sectioin: \"yes, it is easy\" or \"no, it is not easy\"."
   ]
  },
  {
   "cell_type": "code",
   "execution_count": 9,
   "metadata": {},
   "outputs": [
    {
     "data": {
      "text/plain": "<Figure size 1500x800 with 1 Axes>",
      "image/png": "[encoded data removed]"
     },
     "metadata": {},
     "output_type": "display_data"
    }
   ],
   "source": [
    "fig, ax = plt.subplots(figsize=(15, 8))\n",
    "ax1 = ax.scatter(x=df['am'], y=df['pm'], c=[0 if i == 'working_day' else 1 for i in df['target']], cmap='plasma')\n",
    "handles, labels = ax1.legend_elements(prop='colors')\n",
    "ax.set_xlabel('am', fontsize='large')\n",
    "ax.set_ylabel('pm', fontsize='large')\n",
    "ax.legend(handles, ['working_day', 'weekend'])\n",
    "ax.set_facecolor('grey')"
   ]
  },
  {
   "cell_type": "markdown",
   "metadata": {},
   "source": [
    "### No, it is not easy"
   ]
  },
  {
   "cell_type": "markdown",
   "metadata": {},
   "source": [
    "## 3. Logistic regression"
   ]
  },
  {
   "cell_type": "markdown",
   "metadata": {},
   "source": [
    "- Train logistic regression on your data using `am` and `pm`, parameters are: `random state=21`, `fit_intercept=False`.\n",
    "\n",
    "\n",
    "- Make predictions for every day of your dataset and add them to your dataframe with the column name `predict`.\n",
    "\n",
    "\n",
    "- Save the dataframe into a file in the subfolder of the day `data` with the name `am_pm.csv`.\n",
    "\n",
    "\n",
    "- Draw another plot like you did before, but the color should be taken from the `predict`.\n",
    "\n",
    "\n",
    "- By looking at the graph do you think if it made good predictions? Put your answer in the markdown cell in the end of that section: \"yes, it is good\"; \"no, it is not good\"."
   ]
  },
  {
   "cell_type": "code",
   "execution_count": 10,
   "metadata": {},
   "outputs": [
    {
     "data": {
      "text/plain": "LogisticRegression(fit_intercept=False, random_state=21)",
      "text/html": "<style>#sk-container-id-1 {color: black;background-color: white;}#sk-container-id-1 pre{padding: 0;}#sk-container-id-1 div.sk-toggleable {background-color: white;}#sk-container-id-1 label.sk-toggleable__label {cursor: pointer;display: block;width: 100%;margin-bottom: 0;padding: 0.3em;box-sizing: border-box;text-align: center;}#sk-container-id-1 label.sk-toggleable__label-arrow:before {content: \"▸\";float: left;margin-right: 0.25em;color: #696969;}#sk-container-id-1 label.sk-toggleable__label-arrow:hover:before {color: black;}#sk-container-id-1 div.sk-estimator:hover label.sk-toggleable__label-arrow:before {color: black;}#sk-container-id-1 div.sk-toggleable__content {max-height: 0;max-width: 0;overflow: hidden;text-align: left;background-color: #f0f8ff;}#sk-container-id-1 div.sk-toggleable__content pre {margin: 0.2em;color: black;border-radius: 0.25em;background-color: #f0f8ff;}#sk-container-id-1 input.sk-toggleable__control:checked~div.sk-toggleable__content {max-height: 200px;max-width: 100%;overflow: auto;}#sk-container-id-1 input.sk-toggleable__control:checked~label.sk-toggleable__label-arrow:before {content: \"▾\";}#sk-container-id-1 div.sk-estimator input.sk-toggleable__control:checked~label.sk-toggleable__label {background-color: #d4ebff;}#sk-container-id-1 div.sk-label input.sk-toggleable__control:checked~label.sk-toggleable__label {background-color: #d4ebff;}#sk-container-id-1 input.sk-hidden--visually {border: 0;clip: rect(1px 1px 1px 1px);clip: rect(1px, 1px, 1px, 1px);height: 1px;margin: -1px;overflow: hidden;padding: 0;position: absolute;width: 1px;}#sk-container-id-1 div.sk-estimator {font-family: monospace;background-color: #f0f8ff;border: 1px dotted black;border-radius: 0.25em;box-sizing: border-box;margin-bottom: 0.5em;}#sk-container-id-1 div.sk-estimator:hover {background-color: #d4ebff;}#sk-container-id-1 div.sk-parallel-item::after {content: \"\";width: 100%;border-bottom: 1px solid gray;flex-grow: 1;}#sk-container-id-1 div.sk-label:hover label.sk-toggleable__label {background-color: #d4ebff;}#sk-container-id-1 div.sk-serial::before {content: \"\";position: absolute;border-left: 1px solid gray;box-sizing: border-box;top: 0;bottom: 0;left: 50%;z-index: 0;}#sk-container-id-1 div.sk-serial {display: flex;flex-direction: column;align-items: center;background-color: white;padding-right: 0.2em;padding-left: 0.2em;position: relative;}#sk-container-id-1 div.sk-item {position: relative;z-index: 1;}#sk-container-id-1 div.sk-parallel {display: flex;align-items: stretch;justify-content: center;background-color: white;position: relative;}#sk-container-id-1 div.sk-item::before, #sk-container-id-1 div.sk-parallel-item::before {content: \"\";position: absolute;border-left: 1px solid gray;box-sizing: border-box;top: 0;bottom: 0;left: 50%;z-index: -1;}#sk-container-id-1 div.sk-parallel-item {display: flex;flex-direction: column;z-index: 1;position: relative;background-color: white;}#sk-container-id-1 div.sk-parallel-item:first-child::after {align-self: flex-end;width: 50%;}#sk-container-id-1 div.sk-parallel-item:last-child::after {align-self: flex-start;width: 50%;}#sk-container-id-1 div.sk-parallel-item:only-child::after {width: 0;}#sk-container-id-1 div.sk-dashed-wrapped {border: 1px dashed gray;margin: 0 0.4em 0.5em 0.4em;box-sizing: border-box;padding-bottom: 0.4em;background-color: white;}#sk-container-id-1 div.sk-label label {font-family: monospace;font-weight: bold;display: inline-block;line-height: 1.2em;}#sk-container-id-1 div.sk-label-container {text-align: center;}#sk-container-id-1 div.sk-container {/* jupyter's `normalize.less` sets `[hidden] { display: none; }` but bootstrap.min.css set `[hidden] { display: none !important; }` so we also need the `!important` here to be able to override the default hidden behavior on the sphinx rendered scikit-learn.org. See: https://github.com/scikit-learn/scikit-learn/issues/21755 */display: inline-block !important;position: relative;}#sk-container-id-1 div.sk-text-repr-fallback {display: none;}</style><div id=\"sk-container-id-1\" class=\"sk-top-container\"><div class=\"sk-text-repr-fallback\"><pre>LogisticRegression(fit_intercept=False, random_state=21)</pre><b>In a Jupyter environment, please rerun this cell to show the HTML representation or trust the notebook. <br />On GitHub, the HTML representation is unable to render, please try loading this page with nbviewer.org.</b></div><div class=\"sk-container\" hidden><div class=\"sk-item\"><div class=\"sk-estimator sk-toggleable\"><input class=\"sk-toggleable__control sk-hidden--visually\" id=\"sk-estimator-id-1\" type=\"checkbox\" checked><label for=\"sk-estimator-id-1\" class=\"sk-toggleable__label sk-toggleable__label-arrow\">LogisticRegression</label><div class=\"sk-toggleable__content\"><pre>LogisticRegression(fit_intercept=False, random_state=21)</pre></div></div></div></div></div>"
     },
     "execution_count": 10,
     "metadata": {},
     "output_type": "execute_result"
    }
   ],
   "source": [
    "logreg = LogisticRegression(random_state=21, fit_intercept=False)\n",
    "x = df[['am', 'pm']].values\n",
    "y = df['target'].values\n",
    "logreg.fit(x, y)"
   ]
  },
  {
   "cell_type": "code",
   "execution_count": 11,
   "metadata": {},
   "outputs": [
    {
     "data": {
      "text/plain": "            am  pm       target      predict\ndate                                        \n2020-04-17  21   2  working_day      weekend\n2020-04-18   1  68      weekend  working_day\n2020-04-19  18  15      weekend  working_day\n2020-04-20   2  23  working_day  working_day\n2020-04-21   0  25  working_day  working_day",
      "text/html": "<div>\n<style scoped>\n    .dataframe tbody tr th:only-of-type {\n        vertical-align: middle;\n    }\n\n    .dataframe tbody tr th {\n        vertical-align: top;\n    }\n\n    .dataframe thead th {\n        text-align: right;\n    }\n</style>\n<table border=\"1\" class=\"dataframe\">\n  <thead>\n    <tr style=\"text-align: right;\">\n      <th></th>\n      <th>am</th>\n      <th>pm</th>\n      <th>target</th>\n      <th>predict</th>\n    </tr>\n    <tr>\n      <th>date</th>\n      <th></th>\n      <th></th>\n      <th></th>\n      <th></th>\n    </tr>\n  </thead>\n  <tbody>\n    <tr>\n      <th>2020-04-17</th>\n      <td>21</td>\n      <td>2</td>\n      <td>working_day</td>\n      <td>weekend</td>\n    </tr>\n    <tr>\n      <th>2020-04-18</th>\n      <td>1</td>\n      <td>68</td>\n      <td>weekend</td>\n      <td>working_day</td>\n    </tr>\n    <tr>\n      <th>2020-04-19</th>\n      <td>18</td>\n      <td>15</td>\n      <td>weekend</td>\n      <td>working_day</td>\n    </tr>\n    <tr>\n      <th>2020-04-20</th>\n      <td>2</td>\n      <td>23</td>\n      <td>working_day</td>\n      <td>working_day</td>\n    </tr>\n    <tr>\n      <th>2020-04-21</th>\n      <td>0</td>\n      <td>25</td>\n      <td>working_day</td>\n      <td>working_day</td>\n    </tr>\n  </tbody>\n</table>\n</div>"
     },
     "execution_count": 11,
     "metadata": {},
     "output_type": "execute_result"
    }
   ],
   "source": [
    "df['predict'] = logreg.predict(x)\n",
    "df.head()"
   ]
  },
  {
   "cell_type": "code",
   "execution_count": 12,
   "outputs": [
    {
     "name": "stdout",
     "output_type": "stream",
     "text": [
      "<class 'pandas.core.frame.DataFrame'>\n",
      "Index: 35 entries, 2020-04-17 to 2020-05-21\n",
      "Data columns (total 4 columns):\n",
      " #   Column   Non-Null Count  Dtype \n",
      "---  ------   --------------  ----- \n",
      " 0   am       35 non-null     int32 \n",
      " 1   pm       35 non-null     int32 \n",
      " 2   target   35 non-null     object\n",
      " 3   predict  35 non-null     object\n",
      "dtypes: int32(2), object(2)\n",
      "memory usage: 2.1+ KB\n"
     ]
    }
   ],
   "source": [
    "df.info()"
   ],
   "metadata": {
    "collapsed": false
   }
  },
  {
   "cell_type": "code",
   "execution_count": 13,
   "metadata": {},
   "outputs": [
    {
     "data": {
      "text/plain": "            am  pm       target      predict  predict_state\ndate                                                       \n2020-04-17  21   2  working_day      weekend              0\n2020-04-18   1  68      weekend  working_day              0\n2020-04-19  18  15      weekend  working_day              0\n2020-04-20   2  23  working_day  working_day              1\n2020-04-21   0  25  working_day  working_day              1",
      "text/html": "<div>\n<style scoped>\n    .dataframe tbody tr th:only-of-type {\n        vertical-align: middle;\n    }\n\n    .dataframe tbody tr th {\n        vertical-align: top;\n    }\n\n    .dataframe thead th {\n        text-align: right;\n    }\n</style>\n<table border=\"1\" class=\"dataframe\">\n  <thead>\n    <tr style=\"text-align: right;\">\n      <th></th>\n      <th>am</th>\n      <th>pm</th>\n      <th>target</th>\n      <th>predict</th>\n      <th>predict_state</th>\n    </tr>\n    <tr>\n      <th>date</th>\n      <th></th>\n      <th></th>\n      <th></th>\n      <th></th>\n      <th></th>\n    </tr>\n  </thead>\n  <tbody>\n    <tr>\n      <th>2020-04-17</th>\n      <td>21</td>\n      <td>2</td>\n      <td>working_day</td>\n      <td>weekend</td>\n      <td>0</td>\n    </tr>\n    <tr>\n      <th>2020-04-18</th>\n      <td>1</td>\n      <td>68</td>\n      <td>weekend</td>\n      <td>working_day</td>\n      <td>0</td>\n    </tr>\n    <tr>\n      <th>2020-04-19</th>\n      <td>18</td>\n      <td>15</td>\n      <td>weekend</td>\n      <td>working_day</td>\n      <td>0</td>\n    </tr>\n    <tr>\n      <th>2020-04-20</th>\n      <td>2</td>\n      <td>23</td>\n      <td>working_day</td>\n      <td>working_day</td>\n      <td>1</td>\n    </tr>\n    <tr>\n      <th>2020-04-21</th>\n      <td>0</td>\n      <td>25</td>\n      <td>working_day</td>\n      <td>working_day</td>\n      <td>1</td>\n    </tr>\n  </tbody>\n</table>\n</div>"
     },
     "execution_count": 13,
     "metadata": {},
     "output_type": "execute_result"
    }
   ],
   "source": [
    "df['predict_state'] = np.where((df['target'] == df['predict']), 1, 0)\n",
    "df.head()"
   ]
  },
  {
   "cell_type": "code",
   "execution_count": 14,
   "metadata": {},
   "outputs": [
    {
     "data": {
      "text/plain": "1    22\n0    13\nName: predict_state, dtype: int64"
     },
     "execution_count": 14,
     "metadata": {},
     "output_type": "execute_result"
    }
   ],
   "source": [
    "df['predict_state'].value_counts()"
   ]
  },
  {
   "cell_type": "code",
   "execution_count": 15,
   "metadata": {},
   "outputs": [],
   "source": [
    "df.to_csv('../data/am_pm.csv')"
   ]
  },
  {
   "cell_type": "code",
   "execution_count": 16,
   "metadata": {},
   "outputs": [
    {
     "data": {
      "text/plain": "<Figure size 1500x800 with 1 Axes>",
      "image/png": "[encoded data removed]"
     },
     "metadata": {},
     "output_type": "display_data"
    }
   ],
   "source": [
    "fig, ax = plt.subplots(figsize=(15, 8))\n",
    "ax1 = ax.scatter(x=df['am'], y=df['pm'], c=[0 if i == 'working_day' else 1 for i in df['target']], cmap='plasma')\n",
    "handles, labels = ax1.legend_elements(prop='colors')\n",
    "ax.set_xlabel('am', fontsize='large')\n",
    "ax.set_ylabel('pm', fontsize='large')\n",
    "ax.legend(handles, ['working_day', 'weekend'])\n",
    "ax.set_facecolor('grey')"
   ]
  },
  {
   "cell_type": "code",
   "execution_count": 16,
   "metadata": {},
   "outputs": [],
   "source": []
  },
  {
   "cell_type": "code",
   "execution_count": 16,
   "metadata": {},
   "outputs": [],
   "source": []
  },
  {
   "cell_type": "code",
   "execution_count": 16,
   "metadata": {},
   "outputs": [],
   "source": []
  },
  {
   "cell_type": "code",
   "execution_count": 16,
   "metadata": {},
   "outputs": [],
   "source": []
  },
  {
   "cell_type": "code",
   "execution_count": 16,
   "metadata": {},
   "outputs": [],
   "source": []
  },
  {
   "cell_type": "code",
   "execution_count": 16,
   "metadata": {},
   "outputs": [],
   "source": []
  },
  {
   "cell_type": "code",
   "execution_count": 16,
   "metadata": {},
   "outputs": [],
   "source": []
  },
  {
   "cell_type": "markdown",
   "metadata": {},
   "source": [
    "### No, it is not good"
   ]
  },
  {
   "cell_type": "markdown",
   "metadata": {},
   "source": [
    "## 4. Evaluation"
   ]
  },
  {
   "cell_type": "markdown",
   "metadata": {},
   "source": [
    "- Calculate `accuracy` for your predictions.\n",
    "\n",
    "\n",
    "- Calculate `accuracy` for the naive case when each of your prediction is the value of your most popular class of the day.\n",
    "\n",
    "\n",
    "- Comparing the accuracies do you think that the classifier made good predictions? Put your answer in the markdown cell in the end of the secion: \"yes, it is good\"; \"no, it is not good\"."
   ]
  },
  {
   "cell_type": "code",
   "execution_count": 17,
   "metadata": {},
   "outputs": [
    {
     "data": {
      "text/plain": "0.6285714285714286"
     },
     "execution_count": 17,
     "metadata": {},
     "output_type": "execute_result"
    }
   ],
   "source": [
    "accuracy_score(y, df['predict'])"
   ]
  },
  {
   "cell_type": "code",
   "execution_count": 18,
   "metadata": {},
   "outputs": [
    {
     "data": {
      "text/plain": "0.7142857142857143"
     },
     "execution_count": 18,
     "metadata": {},
     "output_type": "execute_result"
    }
   ],
   "source": [
    "accuracy_score(y, [df['target'].mode().values] * len(y))"
   ]
  },
  {
   "cell_type": "markdown",
   "metadata": {},
   "source": [
    "### No, it is not good"
   ]
  }
 ],
 "metadata": {
  "kernelspec": {
   "display_name": "Python 3",
   "language": "python",
   "name": "python3"
  },
  "language_info": {
   "codemirror_mode": {
    "name": "ipython",
    "version": 3
   },
   "file_extension": ".py",
   "mimetype": "text/x-python",
   "name": "python",
   "nbconvert_exporter": "python",
   "pygments_lexer": "ipython3",
   "version": "3.7.7"
  }
 },
 "nbformat": 4,
 "nbformat_minor": 4
}
